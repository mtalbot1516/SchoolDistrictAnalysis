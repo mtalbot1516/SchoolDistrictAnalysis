{
 "cells": [
  {
   "cell_type": "code",
   "execution_count": 4,
   "metadata": {},
   "outputs": [
    {
     "data": {
      "text/plain": [
       "<bound method DataFrame.count of     School ID            school_name      type  size   budget\n",
       "0           0      Huang High School  District  2917  1910635\n",
       "1           1   Figueroa High School  District  2949  1884411\n",
       "2           2    Shelton High School   Charter  1761  1056600\n",
       "3           3  Hernandez High School  District  4635  3022020\n",
       "4           4    Griffin High School   Charter  1468   917500\n",
       "5           5     Wilson High School   Charter  2283  1319574\n",
       "6           6    Cabrera High School   Charter  1858  1081356\n",
       "7           7     Bailey High School  District  4976  3124928\n",
       "8           8     Holden High School   Charter   427   248087\n",
       "9           9       Pena High School   Charter   962   585858\n",
       "10         10     Wright High School   Charter  1800  1049400\n",
       "11         11  Rodriguez High School  District  3999  2547363\n",
       "12         12    Johnson High School  District  4761  3094650\n",
       "13         13       Ford High School  District  2739  1763916\n",
       "14         14     Thomas High School   Charter  1635  1043130>"
      ]
     },
     "execution_count": 4,
     "metadata": {},
     "output_type": "execute_result"
    }
   ],
   "source": [
    "import pandas as pd\n",
    "import os\n",
    "\n",
    "school_data_to_load = \"Resources/schools_complete.csv\"\n",
    "student_data_to_load = \"Resources/students_complete.csv\"\n",
    "\n",
    "school_data_df = pd.read_csv(school_data_to_load)\n",
    "student_data_df = pd.read_csv(student_data_to_load)\n",
    "\n",
    "school_data_df.count\n"
   ]
  },
  {
   "cell_type": "code",
   "execution_count": 5,
   "metadata": {},
   "outputs": [
    {
     "data": {
      "text/html": [
       "<div>\n",
       "<style scoped>\n",
       "    .dataframe tbody tr th:only-of-type {\n",
       "        vertical-align: middle;\n",
       "    }\n",
       "\n",
       "    .dataframe tbody tr th {\n",
       "        vertical-align: top;\n",
       "    }\n",
       "\n",
       "    .dataframe thead th {\n",
       "        text-align: right;\n",
       "    }\n",
       "</style>\n",
       "<table border=\"1\" class=\"dataframe\">\n",
       "  <thead>\n",
       "    <tr style=\"text-align: right;\">\n",
       "      <th></th>\n",
       "      <th>Student ID</th>\n",
       "      <th>student_name</th>\n",
       "      <th>gender</th>\n",
       "      <th>grade</th>\n",
       "      <th>school_name</th>\n",
       "      <th>reading_score</th>\n",
       "      <th>math_score</th>\n",
       "    </tr>\n",
       "  </thead>\n",
       "  <tbody>\n",
       "    <tr>\n",
       "      <th>0</th>\n",
       "      <td>0</td>\n",
       "      <td>Paul Bradley</td>\n",
       "      <td>M</td>\n",
       "      <td>9th</td>\n",
       "      <td>Huang High School</td>\n",
       "      <td>66</td>\n",
       "      <td>79</td>\n",
       "    </tr>\n",
       "    <tr>\n",
       "      <th>1</th>\n",
       "      <td>1</td>\n",
       "      <td>Victor Smith</td>\n",
       "      <td>M</td>\n",
       "      <td>12th</td>\n",
       "      <td>Huang High School</td>\n",
       "      <td>94</td>\n",
       "      <td>61</td>\n",
       "    </tr>\n",
       "    <tr>\n",
       "      <th>2</th>\n",
       "      <td>2</td>\n",
       "      <td>Kevin Rodriguez</td>\n",
       "      <td>M</td>\n",
       "      <td>12th</td>\n",
       "      <td>Huang High School</td>\n",
       "      <td>90</td>\n",
       "      <td>60</td>\n",
       "    </tr>\n",
       "    <tr>\n",
       "      <th>3</th>\n",
       "      <td>3</td>\n",
       "      <td>Dr. Richard Scott</td>\n",
       "      <td>M</td>\n",
       "      <td>12th</td>\n",
       "      <td>Huang High School</td>\n",
       "      <td>67</td>\n",
       "      <td>58</td>\n",
       "    </tr>\n",
       "    <tr>\n",
       "      <th>4</th>\n",
       "      <td>4</td>\n",
       "      <td>Bonnie Ray</td>\n",
       "      <td>F</td>\n",
       "      <td>9th</td>\n",
       "      <td>Huang High School</td>\n",
       "      <td>97</td>\n",
       "      <td>84</td>\n",
       "    </tr>\n",
       "  </tbody>\n",
       "</table>\n",
       "</div>"
      ],
      "text/plain": [
       "   Student ID       student_name gender grade        school_name  \\\n",
       "0           0       Paul Bradley      M   9th  Huang High School   \n",
       "1           1       Victor Smith      M  12th  Huang High School   \n",
       "2           2    Kevin Rodriguez      M  12th  Huang High School   \n",
       "3           3  Dr. Richard Scott      M  12th  Huang High School   \n",
       "4           4         Bonnie Ray      F   9th  Huang High School   \n",
       "\n",
       "   reading_score  math_score  \n",
       "0             66          79  \n",
       "1             94          61  \n",
       "2             90          60  \n",
       "3             67          58  \n",
       "4             97          84  "
      ]
     },
     "execution_count": 5,
     "metadata": {},
     "output_type": "execute_result"
    }
   ],
   "source": [
    "# Determine if there any missing value in the school data.\n",
    "student_data_df.head()"
   ]
  },
  {
   "cell_type": "code",
   "execution_count": 6,
   "metadata": {},
   "outputs": [
    {
     "data": {
      "text/plain": [
       "dtype('int64')"
      ]
     },
     "execution_count": 6,
     "metadata": {},
     "output_type": "execute_result"
    }
   ],
   "source": [
    "student_data_df.reading_score.dtype"
   ]
  },
  {
   "cell_type": "code",
   "execution_count": 7,
   "metadata": {},
   "outputs": [
    {
     "name": "stdout",
     "output_type": "stream",
     "text": [
      "['Dr. ', 'Mr. ', 'Ms.', 'Mrs. ', 'Miss ', ' MD', ' DDS', ' DVM', ' PhD']\n"
     ]
    }
   ],
   "source": [
    "#Add Each Prefix and Suffix to a remove list\n",
    "pre_suf = [\"Dr. \", \"Mr. \", \"Ms.\", \"Mrs. \", \"Miss \", \" MD\", \" DDS\", \" DVM\", \" PhD\"]\n",
    "print(pre_suf)"
   ]
  },
  {
   "cell_type": "code",
   "execution_count": 18,
   "metadata": {},
   "outputs": [
    {
     "name": "stdout",
     "output_type": "stream",
     "text": [
      "0           Paul Bradley\n",
      "1           Victor Smith\n",
      "2        Kevin Rodriguez\n",
      "3          Richard Scott\n",
      "4             Bonnie Ray\n",
      "              ...       \n",
      "39165       Donna Howard\n",
      "39166          Dawn Bell\n",
      "39167     Rebecca Tanner\n",
      "39168       Desiree Kidd\n",
      "39169    Carolyn Jackson\n",
      "Name: student_name, Length: 39170, dtype: object\n",
      "0           Paul Bradley\n",
      "1           Victor Smith\n",
      "2        Kevin Rodriguez\n",
      "3          Richard Scott\n",
      "4             Bonnie Ray\n",
      "              ...       \n",
      "39165       Donna Howard\n",
      "39166          Dawn Bell\n",
      "39167     Rebecca Tanner\n",
      "39168       Desiree Kidd\n",
      "39169    Carolyn Jackson\n",
      "Name: student_name, Length: 39170, dtype: object\n",
      "0           Paul Bradley\n",
      "1           Victor Smith\n",
      "2        Kevin Rodriguez\n",
      "3          Richard Scott\n",
      "4             Bonnie Ray\n",
      "              ...       \n",
      "39165       Donna Howard\n",
      "39166          Dawn Bell\n",
      "39167     Rebecca Tanner\n",
      "39168       Desiree Kidd\n",
      "39169    Carolyn Jackson\n",
      "Name: student_name, Length: 39170, dtype: object\n",
      "0           Paul Bradley\n",
      "1           Victor Smith\n",
      "2        Kevin Rodriguez\n",
      "3          Richard Scott\n",
      "4             Bonnie Ray\n",
      "              ...       \n",
      "39165       Donna Howard\n",
      "39166          Dawn Bell\n",
      "39167     Rebecca Tanner\n",
      "39168       Desiree Kidd\n",
      "39169    Carolyn Jackson\n",
      "Name: student_name, Length: 39170, dtype: object\n",
      "0           Paul Bradley\n",
      "1           Victor Smith\n",
      "2        Kevin Rodriguez\n",
      "3          Richard Scott\n",
      "4             Bonnie Ray\n",
      "              ...       \n",
      "39165       Donna Howard\n",
      "39166          Dawn Bell\n",
      "39167     Rebecca Tanner\n",
      "39168       Desiree Kidd\n",
      "39169    Carolyn Jackson\n",
      "Name: student_name, Length: 39170, dtype: object\n",
      "0           Paul Bradley\n",
      "1           Victor Smith\n",
      "2        Kevin Rodriguez\n",
      "3          Richard Scott\n",
      "4             Bonnie Ray\n",
      "              ...       \n",
      "39165       Donna Howard\n",
      "39166          Dawn Bell\n",
      "39167     Rebecca Tanner\n",
      "39168       Desiree Kidd\n",
      "39169    Carolyn Jackson\n",
      "Name: student_name, Length: 39170, dtype: object\n",
      "0           Paul Bradley\n",
      "1           Victor Smith\n",
      "2        Kevin Rodriguez\n",
      "3          Richard Scott\n",
      "4             Bonnie Ray\n",
      "              ...       \n",
      "39165       Donna Howard\n",
      "39166          Dawn Bell\n",
      "39167     Rebecca Tanner\n",
      "39168       Desiree Kidd\n",
      "39169    Carolyn Jackson\n",
      "Name: student_name, Length: 39170, dtype: object\n",
      "0           Paul Bradley\n",
      "1           Victor Smith\n",
      "2        Kevin Rodriguez\n",
      "3          Richard Scott\n",
      "4             Bonnie Ray\n",
      "              ...       \n",
      "39165       Donna Howard\n",
      "39166          Dawn Bell\n",
      "39167     Rebecca Tanner\n",
      "39168       Desiree Kidd\n",
      "39169    Carolyn Jackson\n",
      "Name: student_name, Length: 39170, dtype: object\n",
      "0           Paul Bradley\n",
      "1           Victor Smith\n",
      "2        Kevin Rodriguez\n",
      "3          Richard Scott\n",
      "4             Bonnie Ray\n",
      "              ...       \n",
      "39165       Donna Howard\n",
      "39166          Dawn Bell\n",
      "39167     Rebecca Tanner\n",
      "39168       Desiree Kidd\n",
      "39169    Carolyn Jackson\n",
      "Name: student_name, Length: 39170, dtype: object\n"
     ]
    }
   ],
   "source": [
    "for word in pre_suf:\n",
    "    student_data_df[\"student_name\"] = student_data_df[\"student_name\"].str.replace(word, \"\")\n",
    "    print(student_data_df[\"student_name\"])"
   ]
  },
  {
   "cell_type": "code",
   "execution_count": 22,
   "metadata": {},
   "outputs": [
    {
     "data": {
      "text/plain": [
       "151"
      ]
     },
     "execution_count": 22,
     "metadata": {},
     "output_type": "execute_result"
    }
   ],
   "source": [
    "#Create a new list and use it for the for loop to iterate through the list\n",
    "student_fixed = []\n",
    "\n",
    "#use an if statement to check the length of the name\n",
    "student_names = student_data_df[\"student_name\"].tolist()\n",
    "for name in student_names:\n",
    "    if len(name.split()) >= 3:\n",
    "        student_fixed.append(name)\n",
    "#get the length of  the students' names that are greater than or equal to 3.\n",
    "len(student_fixed)\n",
    "    "
   ]
  },
  {
   "cell_type": "code",
   "execution_count": null,
   "metadata": {},
   "outputs": [],
   "source": []
  }
 ],
 "metadata": {
  "kernelspec": {
   "display_name": "PythonData",
   "language": "python",
   "name": "pythondata"
  },
  "language_info": {
   "codemirror_mode": {
    "name": "ipython",
    "version": 3
   },
   "file_extension": ".py",
   "mimetype": "text/x-python",
   "name": "python",
   "nbconvert_exporter": "python",
   "pygments_lexer": "ipython3",
   "version": "3.8.5"
  }
 },
 "nbformat": 4,
 "nbformat_minor": 4
}
